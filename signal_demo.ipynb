{
 "cells": [
  {
   "cell_type": "markdown",
   "metadata": {},
   "source": [
    "# Deep Learning for RF Signal Classification Challenge (Demo) \n",
    "   by Nick Hale\n",
    "\n",
    "# Introduction\n",
    "\n",
    "This demonstration shows part of the ML solution I used in an RF signal classification challenge for the Army Rapid Capabilities Office.  For demonstration purposes, the original problem is reduced from a 24-class to 3-class classification task.  The sample classes (modulation types) are GMSK, QPSK, and BPSK with 500 samples from each class.\n",
    "\n",
    "This notebook will showcase the main strategy used in the competition which is to train 3 neural networks based on three different representations of the same signals.  The class probabilities predicted by each of the neural networks are then bagged together using the geometric mean.  \n",
    "\n",
    "In the actual competition, a meta-ensemble pipeline was added with multiple decision tree models trained on the probabilities produced from the neural network ensemble.  This meta-ensemble pipeline further increased the score.  \n",
    "\n",
    "Further experiments performed using wavelet decompositions and stacked denoising autoencoders.  These methods showed promise, but ran into computational resource contraints of the setup used in the competition.  \n"
   ]
  },
  {
   "cell_type": "markdown",
   "metadata": {},
   "source": [
    "# Scoring\n",
    "![title](images/scoring.png)"
   ]
  },
  {
   "cell_type": "markdown",
   "metadata": {},
   "source": [
    "# Theory\n",
    "\n",
    "The main theory used in the challenge is that networks trained on different representations of the data may not be winners on their own, but balancing their predictions has a powerful effect of reducing prediction error, because each of the models individually may be strong/weak at predicting certain types of signals. \n",
    "\n",
    "The three representations used are as In-phase / Quadrature (I/Q), Fast Fourier Transform (FFT), and Amplitude / Phase (A/P).  The original data is in I/Q format and is converted into FFT and A/P using the transformations described below.   \n",
    "\n",
    "![title](images/iq.png)\n",
    "![title](images/fft.png)\n",
    "![title](images/AP.png)"
   ]
  },
  {
   "cell_type": "markdown",
   "metadata": {},
   "source": [
    "# Import and format the signal data"
   ]
  },
  {
   "cell_type": "code",
   "execution_count": 2,
   "metadata": {},
   "outputs": [
    {
     "name": "stdout",
     "output_type": "stream",
     "text": [
      "(1500, 2, 1024) (1500,)\n"
     ]
    }
   ],
   "source": [
    "import os\n",
    "import numpy as np\n",
    "\n",
    "\n",
    "from keras.utils import normalize as norm\n",
    "\n",
    "#function to normalize the data\n",
    "def kerasNorm(X):\n",
    "    \n",
    "    return norm(X)\n",
    "\n",
    "\n",
    "\n",
    "path = os.getcwd()\n",
    "\n",
    "\n",
    "X = []\n",
    "y = []\n",
    "\n",
    "#signal data for each modulation class\n",
    "sigpaths  = ['/sig1.npy', '/sig2.npy', '/sig3.npy']\n",
    "\n",
    "for i in range(len(sigpaths)):\n",
    "    \n",
    "    datapath = path+sigpaths[i]\n",
    "    data = np.load(datapath)\n",
    "    X.append(data)\n",
    "    \n",
    "    #constructing y labels\n",
    "    y.append([i for j in range(len(data))])\n",
    "    \n",
    "dim = data.shape\n",
    "\n",
    "#I/Q Data    \n",
    "X_iq = np.array(X).reshape((len(sigpaths)*dim[0], dim[1], dim[2]))\n",
    "#normalize the signal data\n",
    "X_iq = kerasNorm(X_iq)\n",
    "y = np.array(y).reshape((len(sigpaths)*dim[0]))\n",
    "    \n",
    "print(X_iq.shape, y.shape)"
   ]
  },
  {
   "cell_type": "markdown",
   "metadata": {},
   "source": [
    "# Transform the data into FFT and Amplitude/Phase representations\n"
   ]
  },
  {
   "cell_type": "code",
   "execution_count": 3,
   "metadata": {},
   "outputs": [
    {
     "name": "stdout",
     "output_type": "stream",
     "text": [
      "(1500, 2, 1024)\n"
     ]
    }
   ],
   "source": [
    "#FFT\n",
    "from scipy import fftpack\n",
    "\n",
    "#convert to complex vectors\n",
    "complex_X = X_iq[:, 0]+1j*X_iq[:, 1]   \n",
    "\n",
    "#Take the FFT of the complex vectors\n",
    "\n",
    "FFT_temp = fftpack.fftshift(complex_X)\n",
    "fft_dim = X_iq.shape\n",
    "\n",
    "FFT_X = np.empty(fft_dim)\n",
    "\n",
    "#Separate the FFT result into real and imaginary vectors\n",
    "FFT_X[:,0,:] = FFT_temp.real\n",
    "FFT_X[:,1,:] = FFT_temp.imag\n",
    "  \n",
    "print(FFT_X.shape)"
   ]
  },
  {
   "cell_type": "code",
   "execution_count": 4,
   "metadata": {},
   "outputs": [
    {
     "name": "stdout",
     "output_type": "stream",
     "text": [
      "(1500, 2, 1024)\n"
     ]
    }
   ],
   "source": [
    "#Amplitude / Phase\n",
    "ap_dim = X_iq.shape\n",
    "X_ap = np.empty(ap_dim)\n",
    "\n",
    "X_ap[:][0][1] = np.arctan2(X_iq[:][0][1], X_iq[:][0][0])\n",
    "X_ap[:][0][0] = np.linalg.norm(X_iq[i,][0], axis=0) \n",
    "\n",
    "print(X_ap.shape)"
   ]
  },
  {
   "cell_type": "code",
   "execution_count": 5,
   "metadata": {},
   "outputs": [],
   "source": [
    "#Create Train/Test Splits for each representations\n",
    "\n",
    "from sklearn.model_selection import train_test_split\n",
    "\n",
    "dataidxs = list(range(len(X_iq)))\n",
    "trainidx, testidx, trainidxy, testidxy = train_test_split(dataidxs, dataidxs, test_size=0.15, random_state=23)\n",
    "\n",
    "#IQ Train/Test\n",
    "X_iq_train = X_iq[trainidx]\n",
    "X_iq_test = X_iq[testidx]\n",
    "\n",
    "#FFT Train/Test\n",
    "X_fft_train = FFT_X[trainidx]\n",
    "X_fft_test = FFT_X[testidx]\n",
    "\n",
    "\n",
    "#A/P Train/Test\n",
    "X_ap_train = X_ap[trainidx]\n",
    "X_ap_test = X_ap[testidx]\n",
    "\n",
    "\n",
    "#Labels\n",
    "y_train = y[trainidxy]\n",
    "y_test = y[testidxy]\n",
    "\n",
    "\n",
    "\n",
    "#Functions to shape the data for Keras\n",
    "\n",
    "import keras.utils as ku\n",
    "\n",
    "def shapeKeras(X):\n",
    "    \n",
    "    return X.reshape((-1, 2, 1024, 1))\n",
    "\n",
    "def shapeKerasY(y, nclasses):\n",
    "    keras_y = ku.to_categorical(y, num_classes=nclasses)\n",
    "    \n",
    "    return keras_y\n",
    "\n"
   ]
  },
  {
   "cell_type": "markdown",
   "metadata": {},
   "source": [
    "# Model architectures\n",
    "\n",
    "Note: the original models were trained on 4 million signal samples\n",
    "\n",
    "Main features of architecture:\n",
    "    1.  Deep convolutional layers, deeper than most of RF signal deep learning literature but similar in structure\n",
    "    2.  batch normalization - faster, more stable training by re-centering/re-scaling input layer\n",
    "    3.  Dropout - 50% of neurons randomly ignored during training (simple but effective way to prevent overfitting)\n"
   ]
  },
  {
   "cell_type": "code",
   "execution_count": 17,
   "metadata": {},
   "outputs": [],
   "source": [
    "from keras.models import Sequential\n",
    "from keras.layers import Dense, BatchNormalization, Activation\n",
    "from keras.layers import Dropout\n",
    "from keras.layers import Input\n",
    "from keras.layers import Conv2D\n",
    "from keras.layers import Flatten\n",
    "from keras.optimizers import Adam\n",
    "\n",
    "def cnnModel():\n",
    "    \n",
    "    CNNMODEL = Sequential()\n",
    "    \n",
    "    #Convolution input layer 256 neurons, (1,3) filter \n",
    "    CNNMODEL.add(Conv2D(256, (1,3), data_format='channels_last', activation='relu', input_shape=((2,1024,1))))\n",
    "    CNNMODEL.add(BatchNormalization())\n",
    "    \n",
    "    #Convolution layer 256 neurons, (1,3) filter, dropout .5\n",
    "    CNNMODEL.add(Conv2D(256, (1,3), data_format='channels_last', activation='relu'))\n",
    "    CNNMODEL.add(BatchNormalization())\n",
    "    CNNMODEL.add(Dropout(0.5))\n",
    "    \n",
    "    #Convolution layer 256 neurons, (2,3) filter, dropout .5\n",
    "    CNNMODEL.add(Conv2D(256, (2,3), data_format='channels_last', activation='relu'))\n",
    "    CNNMODEL.add(BatchNormalization())\n",
    "    CNNMODEL.add(Dropout(0.5))\n",
    "    \n",
    "    #Convolution layer 128 neurons, (1,3) filter, dropout .5\n",
    "    CNNMODEL.add(Conv2D(128, (1,3), data_format='channels_last', activation='relu'))\n",
    "    CNNMODEL.add(BatchNormalization())\n",
    "    CNNMODEL.add(Dropout(0.5))\n",
    "    \n",
    "    #Convolution layer 128 neurons, (1,3) filter, dropout .5\n",
    "    CNNMODEL.add(Conv2D(128, (1,3), data_format='channels_last', activation='relu'))\n",
    "    CNNMODEL.add(BatchNormalization())\n",
    "    CNNMODEL.add(Dropout(0.5))\n",
    "    \n",
    "    #Convolution layer 128 neurons, (1,3) filter, dropout .5\n",
    "    CNNMODEL.add(Conv2D(128, (1,3), data_format='channels_last', activation='relu'))\n",
    "    CNNMODEL.add(BatchNormalization())\n",
    "    CNNMODEL.add(Dropout(0.5))\n",
    "    \n",
    "    #Convolution layer 64 neurons, (1,3) filter, dropout .5\n",
    "    CNNMODEL.add(Conv2D(64, (1,3), data_format='channels_last', activation='relu'))\n",
    "    CNNMODEL.add(BatchNormalization())\n",
    "    CNNMODEL.add(Dropout(0.5))\n",
    "    \n",
    "    #Convolution layer 64 neurons, (1,3) filter, dropout .5\n",
    "    CNNMODEL.add(Conv2D(64, (1,3), data_format='channels_last', activation='relu'))\n",
    "    CNNMODEL.add(BatchNormalization())\n",
    "    CNNMODEL.add(Dropout(0.5))\n",
    "    \n",
    "    #Convolution layer 64 neurons, (1,3) filter, dropout .5\n",
    "    CNNMODEL.add(Conv2D(64, (1,3), data_format='channels_last', activation='relu'))\n",
    "    CNNMODEL.add(BatchNormalization())\n",
    "    CNNMODEL.add(Dropout(0.5))\n",
    "    \n",
    "    #Dense layer, dropout .5\n",
    "    CNNMODEL.add(Flatten())\n",
    "    CNNMODEL.add(Dense(500, use_bias=False))\n",
    "    CNNMODEL.add(BatchNormalization())\n",
    "    CNNMODEL.add(Activation('relu'))\n",
    "    CNNMODEL.add(Dropout(0.5))\n",
    "    \n",
    "    #final softmax layer\n",
    "    CNNMODEL.add(Dense(3, activation='softmax'))\n",
    "    \n",
    "    \n",
    "    #adam optimizer \n",
    "    adm = Adam(lr=0.001)\n",
    "    \n",
    "    \n",
    "    CNNMODEL.compile(loss='categorical_crossentropy', optimizer=adm,  metrics = ['accuracy'])\n",
    "    \n",
    "    return CNNMODEL\n",
    "\n",
    "#Create the models\n",
    "\n",
    "CNN_IQ = cnnModel()\n",
    "CNN_FFT = cnnModel()\n",
    "CNN_AP = cnnModel()"
   ]
  },
  {
   "cell_type": "markdown",
   "metadata": {},
   "source": [
    "# Training the models"
   ]
  },
  {
   "cell_type": "code",
   "execution_count": 18,
   "metadata": {},
   "outputs": [
    {
     "name": "stdout",
     "output_type": "stream",
     "text": [
      "CNN_IQ Finished\n",
      "CNN_FFT Finished\n",
      "CNN_AP Finished\n"
     ]
    }
   ],
   "source": [
    "#DO NOT RUN IF PRETRAINED, skip to load models\n",
    "\n",
    "from keras.callbacks import EarlyStopping\n",
    "Stopping = EarlyStopping(monitor='loss', patience=5, mode='min', verbose=0)\n",
    "callbacks = [Stopping]\n",
    "\n",
    "iq_history = CNN_IQ.fit(shapeKeras(X_iq_train), shapeKerasY(y_train, 3), epochs=25, \n",
    "                        verbose=0, callbacks=callbacks)\n",
    "print(\"CNN_IQ Finished\")\n",
    "fft_history = CNN_FFT.fit(shapeKeras(X_fft_train), shapeKerasY(y_train, 3), epochs=25, \n",
    "                          verbose=0, callbacks=callbacks)\n",
    "print(\"CNN_FFT Finished\")\n",
    "ap_history = CNN_AP.fit(shapeKeras(X_ap_train), shapeKerasY(y_train, 3), epochs=25, \n",
    "                        verbose=0, callbacks=callbacks)\n",
    "print(\"CNN_AP Finished\")\n",
    "\n",
    "#save models\n",
    "CNN_IQ.save(path+'/cnn_iq.h5', save_format='h5', include_optimizer=False)\n",
    "CNN_FFT.save(path+'/cnn_fft.h5', save_format='h5', include_optimizer=False)\n",
    "CNN_AP.save(path+'/cnn_ap.h5', save_format='h5', include_optimizer=False)"
   ]
  },
  {
   "cell_type": "code",
   "execution_count": 19,
   "metadata": {},
   "outputs": [],
   "source": [
    "#Process and save histories\n",
    "import pickle\n",
    "\n",
    "hist_dict = {'CNN_IQ': iq_history.history, 'CNN_FFT': fft_history.history, 'CNN_AP': ap_history.history }\n",
    "\n",
    "with open(path+'/trainHistoryDict', 'wb') as file_pi:\n",
    "    pickle.dump(hist_dict, file_pi)\n"
   ]
  },
  {
   "cell_type": "code",
   "execution_count": 23,
   "metadata": {},
   "outputs": [],
   "source": [
    "#load previously saved histories\n",
    "import pickle\n",
    "hist_dict = pickle.load(open(path+'/trainHistoryDict', \"rb\"))"
   ]
  },
  {
   "cell_type": "code",
   "execution_count": 7,
   "metadata": {},
   "outputs": [
    {
     "name": "stdout",
     "output_type": "stream",
     "text": [
      "WARNING:tensorflow:No training configuration found in the save file, so the model was *not* compiled. Compile it manually.\n",
      "WARNING:tensorflow:No training configuration found in the save file, so the model was *not* compiled. Compile it manually.\n",
      "WARNING:tensorflow:No training configuration found in the save file, so the model was *not* compiled. Compile it manually.\n"
     ]
    }
   ],
   "source": [
    "#load pretrained models\n",
    "from keras.models import load_model\n",
    "adm = Adam(lr=0.001)\n",
    "\n",
    "CNN_IQ = load_model(path+'/cnn_iq.h5')\n",
    "CNN_IQ.compile(loss='categorical_crossentropy', optimizer=adm,  metrics = ['accuracy'])\n",
    "\n",
    "CNN_FFT = load_model(path+'/cnn_fft.h5')\n",
    "CNN_FFT.compile(loss='categorical_crossentropy', optimizer=adm,  metrics = ['accuracy'])\n",
    "\n",
    "CNN_AP = load_model(path+'/cnn_ap.h5')\n",
    "CNN_AP.compile(loss='categorical_crossentropy', optimizer=adm,  metrics = ['accuracy'])"
   ]
  },
  {
   "cell_type": "code",
   "execution_count": 35,
   "metadata": {},
   "outputs": [],
   "source": [
    "from sklearn import metrics\n",
    "from scipy.stats.mstats import gmean\n",
    "import matplotlib.pyplot as plt\n",
    "\n",
    "\n",
    "def plotTraining(histories):\n",
    "    \n",
    "    plt.plot(histories['CNN_IQ']['loss'])\n",
    "    plt.plot(histories['CNN_FFT']['loss'])\n",
    "    plt.plot(histories['CNN_AP']['loss'])\n",
    "    \n",
    "    plt.title('model training loss')\n",
    "    plt.ylabel('loss')\n",
    "    plt.xlabel('epoch')\n",
    "    plt.legend(['CNN_IQ', \"CNN_FFT\", \"CNN_AP\"], loc='upper right')\n",
    "    plt.show()\n",
    "\n",
    "\n",
    "def score(y_true, y_pred): \n",
    "    \n",
    "    y_true = shapeKerasY(y_true, 3)\n",
    "    loss = metrics.log_loss(y_true, y_pred)\n",
    "    return [100/(1+loss), loss]\n",
    "\n",
    "def BagPreds(preds, metric='geo'):\n",
    "    \n",
    "    if metric == 'geo':\n",
    "        return gmean(preds)\n",
    "    \n",
    "    if metric == 'arith':\n",
    "        return np.mean(preds)    \n",
    "    "
   ]
  },
  {
   "cell_type": "code",
   "execution_count": 29,
   "metadata": {},
   "outputs": [
    {
     "data": {
      "image/png": "[encoded data removed]",
      "text/plain": [
       "<Figure size 432x288 with 1 Axes>"
      ]
     },
     "metadata": {
      "needs_background": "light"
     },
     "output_type": "display_data"
    }
   ],
   "source": [
    "#plot model training\n",
    "\n",
    "plotTraining(hist_dict)"
   ]
  },
  {
   "cell_type": "code",
   "execution_count": 36,
   "metadata": {},
   "outputs": [
    {
     "data": {
      "text/html": [
       "<div>\n",
       "<style scoped>\n",
       "    .dataframe tbody tr th:only-of-type {\n",
       "        vertical-align: middle;\n",
       "    }\n",
       "\n",
       "    .dataframe tbody tr th {\n",
       "        vertical-align: top;\n",
       "    }\n",
       "\n",
       "    .dataframe thead th {\n",
       "        text-align: right;\n",
       "    }\n",
       "</style>\n",
       "<table border=\"1\" class=\"dataframe\">\n",
       "  <thead>\n",
       "    <tr style=\"text-align: right;\">\n",
       "      <th></th>\n",
       "      <th>CNN_IQ</th>\n",
       "      <th>CNN_FFT</th>\n",
       "      <th>CNN_AP</th>\n",
       "      <th>CNN_Ensemble</th>\n",
       "    </tr>\n",
       "  </thead>\n",
       "  <tbody>\n",
       "    <tr>\n",
       "      <th>Test Score</th>\n",
       "      <td>6.910229</td>\n",
       "      <td>38.975042</td>\n",
       "      <td>47.337311</td>\n",
       "      <td>49.349146</td>\n",
       "    </tr>\n",
       "    <tr>\n",
       "      <th>Test logloss</th>\n",
       "      <td>13.471301</td>\n",
       "      <td>1.565745</td>\n",
       "      <td>1.112499</td>\n",
       "      <td>1.026378</td>\n",
       "    </tr>\n",
       "  </tbody>\n",
       "</table>\n",
       "</div>"
      ],
      "text/plain": [
       "                 CNN_IQ    CNN_FFT     CNN_AP  CNN_Ensemble\n",
       "Test Score     6.910229  38.975042  47.337311     49.349146\n",
       "Test logloss  13.471301   1.565745   1.112499      1.026378"
      ]
     },
     "execution_count": 36,
     "metadata": {},
     "output_type": "execute_result"
    }
   ],
   "source": [
    "#Perform inference, ensemble, and score\n",
    "import pandas as pd\n",
    "y_pred_iq = CNN_IQ.predict(shapeKeras(X_iq_test))\n",
    "y_pred_fft = CNN_FFT.predict(shapeKeras(X_fft_test))\n",
    "y_pred_ap = CNN_AP.predict(shapeKeras(X_ap_test))\n",
    "#y_pred_iq,\n",
    "preds = [y_pred_fft, y_pred_ap]\n",
    "\n",
    "scoredf = pd.DataFrame({'CNN_IQ': score(y_test, y_pred_iq),\n",
    "                        'CNN_FFT': score(y_test, y_pred_fft),\n",
    "                        'CNN_AP': score(y_test, y_pred_ap),\n",
    "                        'CNN_Ensemble': score(y_test, BagPreds(preds))\n",
    "                       }, index=['Test Score', 'Test logloss'])\n",
    "scoredf\n",
    "                        "
   ]
  },
  {
   "cell_type": "markdown",
   "metadata": {},
   "source": [
    "# Discussion\n",
    "\n",
    "The models I/Q model trained on this limited dataset displayed a high degree of overfitting as shown by its extremely low training loss and very high test loss.  The FFT and A/P model did not overfit as much and produced better out of sample scores.  If the IQ model is removed from the ensemble, the bagged predictions of the FFT and A/P models do better than the individual models."
   ]
  }
 ],
 "metadata": {
  "kernelspec": {
   "display_name": "Python 3",
   "language": "python",
   "name": "python3"
  },
  "language_info": {
   "codemirror_mode": {
    "name": "ipython",
    "version": 3
   },
   "file_extension": ".py",
   "mimetype": "text/x-python",
   "name": "python",
   "nbconvert_exporter": "python",
   "pygments_lexer": "ipython3",
   "version": "3.7.9"
  }
 },
 "nbformat": 4,
 "nbformat_minor": 4
}
